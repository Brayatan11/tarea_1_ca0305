{
 "cells": [
  {
   "cell_type": "markdown",
   "id": "6691d371-10a7-478b-8832-a599342b3160",
   "metadata": {},
   "source": [
    "# PREGUNTA 1"
   ]
  },
  {
   "cell_type": "code",
   "execution_count": 189,
   "id": "474d5b6e-567c-4dfc-ae3e-ebfb6bb453ac",
   "metadata": {},
   "outputs": [
    {
     "data": {
      "text/plain": [
       "{'Dividendo': [21, 85, 70],\n",
       " 'Divisor': [1, 1, 1],\n",
       " 'Cociente': [21, 85, 70],\n",
       " 'Residuo': [0, 0, 0]}"
      ]
     },
     "execution_count": 189,
     "metadata": {},
     "output_type": "execute_result"
    }
   ],
   "source": [
    "import random\n",
    "\n",
    "def divittion():\n",
    "    val_aleatorios = [random.randrange(1, 100), random.randrange(1, 100), random.randrange(1, 100)]\n",
    "    divisor = random.randrange(1, 10)\n",
    "    dic_divittion = {\n",
    "    \"Dividendo\": val_aleatorios,\n",
    "    \"Divisor\":  [divisor]*3,\n",
    "    \"Cociente\": [val_aleatorios[0]//divisor, val_aleatorios[1]//divisor, val_aleatorios[2]//divisor],\n",
    "    \"Residuo\": [val_aleatorios[0]%divisor, val_aleatorios[1]%divisor, val_aleatorios[2]%divisor],\n",
    "    }\n",
    "    return dic_divittion\n",
    "\n",
    "divittion()"
   ]
  },
  {
   "cell_type": "markdown",
   "id": "8860850b-2e6c-4865-97d4-979fb6af3fde",
   "metadata": {},
   "source": [
    "# PREGUNTA 2 "
   ]
  },
  {
   "cell_type": "code",
   "execution_count": 190,
   "id": "f9e96629-3350-4ced-8238-37d97cdb40e0",
   "metadata": {},
   "outputs": [
    {
     "data": {
      "text/plain": [
       "{'¡Hola!,': 1, 'soy': 1, '¿cómo': 1, 'va': 1, 'todo?': 1}"
      ]
     },
     "execution_count": 190,
     "metadata": {},
     "output_type": "execute_result"
    }
   ],
   "source": [
    "def conteo(frase):\n",
    "    palabras = frase.split()\n",
    "    dic_conteo = {}\n",
    "    if palabras[0] in dic_conteo:\n",
    "        dic_conteo[palabras[0]] = dic_conteo[palabras[0]] + 1\n",
    "    else:\n",
    "        dic_conteo[palabras[0]] = 1\n",
    "\n",
    "    if palabras[1] in dic_conteo:\n",
    "        dic_conteo[palabras[1]] = dic_conteo[palabras[1]] + 1\n",
    "    else:\n",
    "        dic_conteo[palabras[1]] = 1\n",
    "\n",
    "    if palabras[2] in dic_conteo:\n",
    "        dic_conteo[palabras[2]] = dic_conteo[palabras[2]] + 1\n",
    "    else:\n",
    "        dic_conteo[palabras[2]] = 1\n",
    "\n",
    "    if palabras[3] in dic_conteo:\n",
    "        dic_conteo[palabras[3]] = dic_conteo[palabras[3]] + 1\n",
    "    else:\n",
    "        dic_conteo[palabras[3]] = 1\n",
    "\n",
    "    if palabras[4] in dic_conteo:\n",
    "        dic_conteo[palabras[4]] = dic_conteo[palabras[4]] + 1\n",
    "    else:\n",
    "        dic_conteo[palabras[4]] = 1\n",
    "\n",
    "    return dic_conteo\n",
    "\n",
    "conteo(\"¡Hola!, soy ¿cómo va todo? Éxitos \")\n"
   ]
  },
  {
   "cell_type": "markdown",
   "id": "621d8575-6cd6-410e-918b-62fb2222b1bc",
   "metadata": {},
   "source": [
    "# Pregunta 3"
   ]
  },
  {
   "cell_type": "code",
   "execution_count": 202,
   "id": "c2699380-b434-489e-9a58-2eaaa962f383",
   "metadata": {},
   "outputs": [
    {
     "name": "stdout",
     "output_type": "stream",
     "text": [
      "Hay 8 signos de puntuación\n"
     ]
    }
   ],
   "source": [
    "def contar(string, simbolo, conteo = 0):\n",
    "    donde = string.find(simbolo)\n",
    "    if donde != -1:\n",
    "        conteo += 1\n",
    "        return contar(string[donde+1:], simbolo, conteo)\n",
    "    else:\n",
    "        return conteo\n",
    "\n",
    "def conteo_simbolos(string):\n",
    "    simbolos = contar(string, \"¡\", conteo = 0) + contar(string, \"\\\"\", conteo = 0) + contar(string, \".\", conteo = 0) + contar(string, \",\", conteo = 0)\n",
    "    simbolos += contar(string, \":\", conteo = 0) + contar(string, \"!\", conteo = 0) + contar(string, \"¿\", conteo = 0) + contar(string, \"?\", conteo = 0)\n",
    "    simbolos += contar(string, \"[\", conteo = 0) + contar(string, \"}\", conteo = 0) + contar(string, \"]\", conteo = 0) + contar(string, \"{\", conteo = 0)\n",
    "    simbolos += contar(string, \")\", conteo = 0) + contar(string, \"(\", conteo = 0) + contar(string, \"\\'\", conteo = 0) + contar(string, \";\", conteo = 0)\n",
    "    return simbolos\n",
    "\n",
    "print(f\"Hay {conteo_simbolos('¡Hola!,,, ¿cómo va todo?, Éxitos')} signos de puntuación\")\n"
   ]
  },
  {
   "cell_type": "markdown",
   "id": "126b2088-514d-4276-9ffb-405433f4db63",
   "metadata": {},
   "source": [
    "# Pregunta 4"
   ]
  },
  {
   "cell_type": "code",
   "execution_count": 192,
   "id": "04b4f462-bf5c-4ca2-adfb-3fb538a6c16a",
   "metadata": {},
   "outputs": [
    {
     "name": "stdout",
     "output_type": "stream",
     "text": [
      "'a': terminalmente\n"
     ]
    }
   ],
   "source": [
    "def palabra_larga(texto, caracter):\n",
    "    indice_caracter = texto.find(caracter)\n",
    "\n",
    "    def key_combinada(palabra):\n",
    "            longitud = len(palabra)\n",
    "            presencia_caracter = 1 if caracter in palabra else 0\n",
    "            return (presencia_caracter, longitud)\n",
    "    \n",
    "    if indice_caracter != -1:\n",
    "        palabras = texto.split()\n",
    "             \n",
    "        palabra_mas_larga = max(texto.split(), key=key_combinada)\n",
    "        a = palabra_mas_larga.find(caracter)\n",
    "\n",
    "        return f\"'{caracter}': {palabra_mas_larga}\"\n",
    "        \n",
    "    else:\n",
    "        return \"El caracter no está presente en el texto.\"\n",
    "\n",
    "\n",
    "texto = \"terminalmente especial hola\"\n",
    "caracter = \"a\"\n",
    "x = palabra_larga(texto, caracter)\n",
    "print(x)\n"
   ]
  },
  {
   "cell_type": "markdown",
   "id": "845f3c8c-23b6-410c-b478-51c0c092e9b7",
   "metadata": {},
   "source": [
    "# Pregunta 5"
   ]
  },
  {
   "cell_type": "code",
   "execution_count": 57,
   "id": "912b4493-014a-4e2b-9f13-f4236d957745",
   "metadata": {},
   "outputs": [
    {
     "name": "stdout",
     "output_type": "stream",
     "text": [
      "{'Promedio edades': {29.5}, 'Tipo de sangre más común': {\"AB: '3'\"}, 'Mayor emergencia': {5}, 'Fecha primer ingreso': {'2023-02-01 00:00:00'}, 'Servicios gratis': {1}}\n"
     ]
    }
   ],
   "source": [
    "import datetime\n",
    "lista_pacientes = {\n",
    "\"1\": {\n",
    "\"Edad\": 23,\n",
    "\"Tipo sangre\": \"-O\",\n",
    "\"Fecha ingreso\": datetime.datetime(2023, 6, 1),\n",
    "\"Fecha salida\": datetime.datetime(2023, 6, 15),\n",
    "\"Nivel de emergencia\": 2,\n",
    "\"Pago de servicios\": 502333\n",
    "},\n",
    "\"2\": {\n",
    "\"Edad\": 7,\n",
    "\"Tipo sangre\": \"AB+\",\n",
    "\"Fecha ingreso\": datetime.datetime(2024, 1, 1),\n",
    "\"Fecha salida\": \"NA\",\n",
    "\"Nivel de emergencia\": 5,\n",
    "\"Pago de servicios\": 0\n",
    "},\n",
    "\"3\": {\n",
    "\"Edad\": 65,\n",
    "\"Tipo sangre\": \"AB+\",\n",
    "\"Fecha ingreso\": datetime.datetime(2023, 2, 1),\n",
    "\"Fecha salida\": datetime.datetime(2024, 2, 1),\n",
    "\"Nivel de emergencia\": 4,\n",
    "\"Pago de servicios\": 28006000\n",
    "},\n",
    "\"4\": {\n",
    "\"Edad\": 23,\n",
    "\"Tipo sangre\": \"AB-\",\n",
    "\"Fecha ingreso\": datetime.datetime(2024, 2, 1),\n",
    "\"Fecha salida\": datetime.datetime(2024, 2, 1),\n",
    "\"Nivel de emergencia\": 0,\n",
    "\"Pago de servicios\": 200300\n",
    "},\n",
    "}\n",
    "\n",
    "\n",
    "def promedio_edades(diccionario):\n",
    "    suma = diccionario.get(\"1\").get(\"Edad\") + diccionario.get(\"2\").get(\"Edad\") + diccionario.get(\"3\").get(\"Edad\") + diccionario.get(\"4\").get(\"Edad\")\n",
    "    promedio = suma/4\n",
    "    return promedio\n",
    "\n",
    "def sangre_comun(diccionario):\n",
    "    \n",
    "    tsangreA = 0\n",
    "    tsangreB = 0\n",
    "    tsangreAB = 0\n",
    "    tsangreO = 0\n",
    "\n",
    "    if diccionario.get(\"1\").get(\"Tipo sangre\").find(\"AB\") != -1:\n",
    "        tsangreAB += 1\n",
    "    elif diccionario.get(\"1\").get(\"Tipo sangre\").find(\"A\") != -1:\n",
    "        tsangreA += 1\n",
    "    elif diccionario.get(\"1\").get(\"Tipo sangre\").find(\"B\") != -1:\n",
    "        tsangreB += 1\n",
    "    elif diccionario.get(\"1\").get(\"Tipo sangre\").find(\"O\") != -1:\n",
    "        tsangreO += 1\n",
    "\n",
    "    if diccionario.get(\"2\").get(\"Tipo sangre\").find(\"AB\") != -1:\n",
    "        tsangreAB += 1\n",
    "    elif diccionario.get(\"2\").get(\"Tipo sangre\").find(\"A\") != -1:\n",
    "        tsangreA += 1\n",
    "    elif diccionario.get(\"2\").get(\"Tipo sangre\").find(\"B\") != -1:\n",
    "        tsangreB += 1\n",
    "    elif diccionario.get(\"2\").get(\"Tipo sangre\").find(\"O\") != -1:\n",
    "        tsangreO += 1\n",
    "\n",
    "    if diccionario.get(\"3\").get(\"Tipo sangre\").find(\"AB\") != -1:\n",
    "        tsangreAB += 1\n",
    "    elif diccionario.get(\"3\").get(\"Tipo sangre\").find(\"A\") != -1:\n",
    "        tsangreA += 1\n",
    "    elif diccionario.get(\"3\").get(\"Tipo sangre\").find(\"B\") != -1:\n",
    "        tsangreB += 1\n",
    "    elif diccionario.get(\"3\").get(\"Tipo sangre\").find(\"O\") != -1:\n",
    "        tsangreO += 1\n",
    "\n",
    "    if diccionario.get(\"4\").get(\"Tipo sangre\").find(\"AB\") != -1:\n",
    "        tsangreAB += 1\n",
    "    elif diccionario.get(\"4\").get(\"Tipo sangre\").find(\"A\") != -1:\n",
    "        tsangreA += 1\n",
    "    elif diccionario.get(\"4\").get(\"Tipo sangre\").find(\"B\") != -1:\n",
    "        tsangreB += 1\n",
    "    elif diccionario.get(\"4\").get(\"Tipo sangre\").find(\"O\") != -1:\n",
    "        tsangreO += 1\n",
    "\n",
    "    sangre = max(tsangreA, tsangreB, tsangreAB, tsangreO)\n",
    "\n",
    "    if sangre == tsangreA:\n",
    "        return f\"A: '{sangre}'\"\n",
    "    if sangre == tsangreB:\n",
    "        return f\"B: '{sangre}'\"\n",
    "    if sangre == tsangreO:\n",
    "        return f\"O: '{sangre}'\"\n",
    "    if sangre == tsangreAB:\n",
    "        return f\"AB: '{sangre}'\"\n",
    "\n",
    "def mayor_emergencia(diccionario):\n",
    "    mayor_emergencia = max(diccionario.get(\"1\").get(\"Nivel de emergencia\"), diccionario.get(\"2\").get(\"Nivel de emergencia\"),diccionario.get(\"3\").get(\"Nivel de emergencia\"),diccionario.get(\"4\").get(\"Nivel de emergencia\"))\n",
    "    return mayor_emergencia\n",
    "\n",
    "def primer_ingreso(diccionario):\n",
    "    primer_ingreso = min(lista_pacientes.get(\"1\").get(\"Fecha ingreso\"), lista_pacientes.get(\"3\").get(\"Fecha ingreso\"),lista_pacientes.get(\"2\").get(\"Fecha ingreso\"),lista_pacientes.get(\"4\").get(\"Fecha ingreso\"))\n",
    "    if primer_ingreso == lista_pacientes.get(\"1\").get(\"Fecha ingreso\"):\n",
    "        return f'{lista_pacientes.get(\"1\").get(\"Fecha ingreso\")}'\n",
    "    elif primer_ingreso == lista_pacientes.get(\"2\").get(\"Fecha ingreso\"):\n",
    "        return f'{lista_pacientes.get(\"2\").get(\"Fecha ingreso\")}'\n",
    "    elif primer_ingreso == lista_pacientes.get(\"3\").get(\"Fecha ingreso\"):\n",
    "        return f'{lista_pacientes.get(\"3\").get(\"Fecha ingreso\")}'\n",
    "    elif primer_ingreso == lista_pacientes.get(\"4\").get(\"Fecha ingreso\"):\n",
    "        return f'{lista_pacientes.get(\"4\").get(\"Fecha ingreso\")}'\n",
    "\n",
    "def servicios_gratis(diccionario):\n",
    "    servicios_gratis = 0\n",
    "    if diccionario.get(\"2\").get(\"Pago de servicios\") == 0:\n",
    "        servicios_gratis += 1\n",
    "    if diccionario.get(\"3\").get(\"Pago de servicios\") == 0:\n",
    "        servicios_gratis += 1\n",
    "    if diccionario.get(\"4\").get(\"Pago de servicios\") == 0:\n",
    "        servicios_gratis += 1\n",
    "    if diccionario.get(\"1\").get(\"Pago de servicios\") == 0:\n",
    "        servicios_gratis += 1\n",
    "        \n",
    "    return servicios_gratis\n",
    "    \n",
    "def caracteristicas(diccionario):\n",
    "    caracteristica = {\n",
    "        \"Promedio edades\": {promedio_edades(diccionario)},\n",
    "        \"Tipo de sangre más común\": {sangre_comun(diccionario)},\n",
    "        \"Mayor emergencia\": {mayor_emergencia(diccionario)},\n",
    "        \"Fecha primer ingreso\": {primer_ingreso(diccionario)},\n",
    "        \"Servicios gratis\": {servicios_gratis(diccionario)}\n",
    "        \n",
    "    }\n",
    "    return caracteristica\n",
    "        \n",
    "        \n",
    "print(caracteristicas(lista_pacientes))"
   ]
  },
  {
   "cell_type": "markdown",
   "id": "c52b5cb7-18d3-4419-a99e-2fc7190bec4d",
   "metadata": {},
   "source": [
    "# Pregunta 6"
   ]
  },
  {
   "cell_type": "code",
   "execution_count": 134,
   "id": "437319c8-c791-4502-817a-a32a2fa70894",
   "metadata": {},
   "outputs": [
    {
     "name": "stdout",
     "output_type": "stream",
     "text": [
      "{'1': {'Pago nuevo': 237299.99999999997, 'Diferencia pago': 265033.0, 'Reserva de iva': 27300.0}, '2': {'Pago nuevo': 0.0, 'Diferencia pago': 0.0, 'Reserva de iva': 0.0}, '3': {'Pago nuevo': 13559999.999999998, 'Diferencia pago': 14446000.000000002, 'Reserva de iva': 1560000.0}, '4': {'Pago nuevo': 9040.0, 'Diferencia pago': 191260.0, 'Reserva de iva': 1040.0}}\n"
     ]
    }
   ],
   "source": [
    "import datetime\n",
    "\n",
    "lista_pacientes = {\n",
    "\"1\": {\n",
    "\"Edad\": 23,\n",
    "\"Tipo sangre\": \"-O\",\n",
    "\"Fecha ingreso\": datetime.datetime(2023, 6, 1),\n",
    "\"Fecha salida\": datetime.datetime(2023, 6, 15),\n",
    "\"Nivel de emergencia\": 2,\n",
    "\"Pago de servicios\": 502333\n",
    "},\n",
    "\"2\": {\n",
    "\"Edad\": 7,\n",
    "\"Tipo sangre\": \"AB+\",\n",
    "\"Fecha ingreso\": datetime.datetime(2024, 1, 1),\n",
    "\"Fecha salida\": \"NA\",\n",
    "\"Nivel de emergencia\": 5,\n",
    "\"Pago de servicios\": 0\n",
    "},\n",
    "\"3\": {\n",
    "\"Edad\": 65,\n",
    "\"Tipo sangre\": \"AB+\",\n",
    "\"Fecha ingreso\": datetime.datetime(2023, 2, 1),\n",
    "\"Fecha salida\": datetime.datetime(2024, 2, 1),\n",
    "\"Nivel de emergencia\": 4,\n",
    "\"Pago de servicios\": 28006000\n",
    "},\n",
    "\"4\": {\n",
    "\"Edad\": 23,\n",
    "\"Tipo sangre\": \"AB-\",\n",
    "\"Fecha ingreso\": datetime.datetime(2024, 2, 1),\n",
    "\"Fecha salida\": datetime.datetime(2024, 2, 1),\n",
    "\"Nivel de emergencia\": 0,\n",
    "\"Pago de servicios\": 200300\n",
    "},\n",
    "}\n",
    "\n",
    "def pago_por_tiempo(lista, paciente):\n",
    "\n",
    "    if (lista.get(paciente).get(\"Fecha salida\") == \"NA\"):\n",
    "        return 0\n",
    "    else:\n",
    "        dias_hospital = (lista.get(paciente).get(\"Fecha salida\") -lista.get(paciente).get(\"Fecha ingreso\")).days\n",
    "        cobro = 0\n",
    "    \n",
    "        if (lista.get(paciente).get(\"Edad\") <= 17):\n",
    "            return 0\n",
    "    \n",
    "        \n",
    "        if (dias_hospital == 0):\n",
    "            cobro = 8000\n",
    "        elif (dias_hospital <= 30):\n",
    "            cobro = dias_hospital * 15000\n",
    "        else:\n",
    "            cobro = (dias_hospital//30) * 1000000\n",
    "\n",
    "    return cobro\n",
    "\n",
    "\n",
    "cambios_pagos = {\n",
    "    \"1\": {\n",
    "    \"Pago nuevo\": pago_por_tiempo(lista_pacientes, \"1\")*1.13,\n",
    "    \"Diferencia pago\": abs(pago_por_tiempo(lista_pacientes, \"1\")*1.13 - lista_pacientes.get(\"1\").get(\"Pago de servicios\")),\n",
    "    \"Reserva de iva\": pago_por_tiempo(lista_pacientes, \"1\")*0.13\n",
    "    } ,\n",
    "    \"2\": {\n",
    "    \"Pago nuevo\": pago_por_tiempo(lista_pacientes, \"2\")*1.13,\n",
    "    \"Diferencia pago\": abs(pago_por_tiempo(lista_pacientes, \"2\")*1.13 - lista_pacientes.get(\"2\").get(\"Pago de servicios\")),\n",
    "    \"Reserva de iva\": pago_por_tiempo(lista_pacientes, \"2\")*0.13\n",
    "    },\n",
    "    \"3\": {\n",
    "    \"Pago nuevo\": pago_por_tiempo(lista_pacientes, \"3\")*1.13,\n",
    "    \"Diferencia pago\": abs(pago_por_tiempo(lista_pacientes, \"3\")*1.13 - lista_pacientes.get(\"3\").get(\"Pago de servicios\")),\n",
    "    \"Reserva de iva\": pago_por_tiempo(lista_pacientes, \"3\")*0.13\n",
    "    },\n",
    "    \"4\": {\n",
    "    \"Pago nuevo\": pago_por_tiempo(lista_pacientes, \"4\")*1.13,\n",
    "    \"Diferencia pago\": abs(pago_por_tiempo(lista_pacientes, \"4\")*1.13 - lista_pacientes.get(\"4\").get(\"Pago de servicios\")),\n",
    "    \"Reserva de iva\": pago_por_tiempo(lista_pacientes, \"4\")*0.13\n",
    "    }\n",
    "}\n",
    "\n",
    "print(cambios_pagos)\n"
   ]
  },
  {
   "cell_type": "markdown",
   "id": "d1688cc8-cbdf-42a0-8969-596c213ddea4",
   "metadata": {},
   "source": [
    "# Pregunta 7"
   ]
  },
  {
   "cell_type": "code",
   "execution_count": 50,
   "id": "ae16f56e-e446-49d8-8563-73245024b1e5",
   "metadata": {},
   "outputs": [
    {
     "name": "stdout",
     "output_type": "stream",
     "text": [
      "{'Tipo de seguro': 'Carros para Uber', 'Prima base': 2500.0, 'Prima bajo descuento': 2475.0, 'Meses de cobertura': 3, 'Pago mensual': 2475.0, 'Pago trimestral': 7425.0, 'Pago semestral': 14850.0, 'Pago anual': 29700.0}\n"
     ]
    }
   ],
   "source": [
    "def calcular_prima_seguro(valor_fiscal, tipo_seguro, meses_cobertura):\n",
    "    \n",
    "    dic_seguros = {\n",
    "        \"Automóviles comunes\": 0.03,\n",
    "        \"Carros para Uber\": 0.05,\n",
    "        \"Motocicletas\": 0.055,\n",
    "        \"Camión de carga pesada o liviana\": 0.04,\n",
    "        \"Buses\": 0.05,\n",
    "        \"Embarcaciones\": 0.05\n",
    "    }\n",
    "\n",
    "    prima_base = dic_seguros.get(tipo_seguro)\n",
    "    if tipo_seguro not in dic_seguros:\n",
    "        return \"Tipo de seguro no válido\"\n",
    "\n",
    "    prima_base_mensual = valor_fiscal * prima_base\n",
    "    descuento_por_mes = 0.005 * (meses_cobertura - 1)\n",
    "    prima_con_descuento = prima_base_mensual * (1 - descuento_por_mes)\n",
    "\n",
    "    pago_mensual = prima_con_descuento\n",
    "    pago_trimestral = prima_con_descuento * 3\n",
    "    pago_semestral = prima_con_descuento * 6\n",
    "    pago_anual = prima_con_descuento * 12\n",
    "\n",
    "    return {\n",
    "        \"Tipo de seguro\": tipo_seguro,\n",
    "        \"Prima base\": prima_base_mensual,\n",
    "        \"Prima bajo descuento\": prima_con_descuento,\n",
    "        \"Meses de cobertura\": meses_cobertura,\n",
    "        \"Pago mensual\": pago_mensual,\n",
    "        \"Pago trimestral\": pago_trimestral,\n",
    "        \"Pago semestral\": pago_semestral,\n",
    "        \"Pago anual\": pago_anual\n",
    "    }\n",
    "\n",
    "# Ejemplo de uso\n",
    "resultado = calcular_prima_seguro(50000, \"Carros para Uber\", 3)\n",
    "print(resultado)"
   ]
  },
  {
   "cell_type": "markdown",
   "id": "02913b6b-cf3a-4dbf-9225-d3a5e10488e6",
   "metadata": {},
   "source": [
    "# Pregunta 8"
   ]
  },
  {
   "cell_type": "code",
   "execution_count": 83,
   "id": "ecb910f8-6dd9-4868-8a12-ac86e6d135cc",
   "metadata": {},
   "outputs": [
    {
     "name": "stdout",
     "output_type": "stream",
     "text": [
      "{'Empresa': 'Hospital Acetaminofén', 'Rating': 'A', 'Tasa interés base': 0.077, 'Moneda del préstamo': 'dólares', 'Tasa preferencial (por garantía)': 0.01, 'Tasa por moneda extranjera': 0.035, 'Tasa neta': 0.122, 'Monto préstamo solicitado': 1200000, 'Comisiones': 0.05, 'Monto préstamo total': 1260000.0, 'LTV': 80.0, 'Cantidad de meses a pagar': 360, 'Cuota mensual': 13154.820291011438}\n"
     ]
    }
   ],
   "source": [
    "def credito_empresa(empresa, rating, monto_prestamo, plazo, garantia, moneda):\n",
    "    tasas_interes_base = {\n",
    "        \"AAA\": 0.064,\n",
    "        \"AA\": 0.07,\n",
    "        \"A\": 0.077,\n",
    "        \"BBB\": 0.084,\n",
    "        \"BB\": 0.106,\n",
    "        \"B\": 0.128,\n",
    "        \"C\": 0.15,\n",
    "        \"D\": 0.25\n",
    "    }\n",
    "\n",
    "    tasa_interes_base = tasas_interes_base.get(rating)\n",
    "    if rating not in tasas_interes_base:\n",
    "        return \"Calificación de riesgo no válida\"\n",
    "\n",
    "    tasa_por_garantia = 0.01 if garantia else 0\n",
    "\n",
    "    # Se añade un 3.5% de tasa de interés si la moneda es extranjera\n",
    "    if moneda != \"colones\":\n",
    "        tasa_por_moneda_extranjera = 0.035\n",
    "    else:\n",
    "        tasa_por_moneda_extranjera = 0\n",
    "\n",
    "    tasa_neta = tasa_interes_base + tasa_por_garantia + tasa_por_moneda_extranjera\n",
    "    comisiones = 0.05\n",
    "    monto_total_prestamo = monto_prestamo * (1 + comisiones)\n",
    "    ltv = (monto_prestamo / garantia) * 100\n",
    "    cantidad_meses = plazo * 12\n",
    "    \n",
    "    cuota_mensual = (monto_total_prestamo * (tasa_neta/12)) / (1 - (1 + (tasa_neta/12)) ** (-cantidad_meses))\n",
    "\n",
    "    return {\n",
    "        \"Empresa\": empresa,\n",
    "        \"Rating\": rating,\n",
    "        \"Tasa interés base\": tasa_interes_base,\n",
    "        \"Moneda del préstamo\": moneda,\n",
    "        \"Tasa preferencial (por garantía)\": tasa_por_garantia,\n",
    "        \"Tasa por moneda extranjera\": tasa_por_moneda_extranjera,\n",
    "        \"Tasa neta\": tasa_neta,\n",
    "        \"Monto préstamo solicitado\": monto_prestamo,\n",
    "        \"Comisiones\": comisiones,\n",
    "        \"Monto préstamo total\": monto_total_prestamo,\n",
    "        \"LTV\": ltv,\n",
    "        \"Cantidad de meses a pagar\": cantidad_meses,\n",
    "        \"Cuota mensual\": cuota_mensual\n",
    "    }\n",
    "\n",
    "resultado = credito_empresa(\"Hospital Acetaminofén\", \"A\", 1200000, 30, 1500000, \"dólares\")\n",
    "print(resultado)"
   ]
  },
  {
   "cell_type": "code",
   "execution_count": 1,
   "id": "e40252bc-68fa-4257-8709-714ef9776da2",
   "metadata": {},
   "outputs": [],
   "source": [
    "with open('Subir_GitHub.txt', 'w') as f:\n",
    " f.write('Mi tarea es Tarea_1 - Carnet. Ejercicio 8 ¡Facilito!')"
   ]
  }
 ],
 "metadata": {
  "kernelspec": {
   "display_name": "Python 3 (ipykernel)",
   "language": "python",
   "name": "python3"
  },
  "language_info": {
   "codemirror_mode": {
    "name": "ipython",
    "version": 3
   },
   "file_extension": ".py",
   "mimetype": "text/x-python",
   "name": "python",
   "nbconvert_exporter": "python",
   "pygments_lexer": "ipython3",
   "version": "3.11.7"
  }
 },
 "nbformat": 4,
 "nbformat_minor": 5
}
